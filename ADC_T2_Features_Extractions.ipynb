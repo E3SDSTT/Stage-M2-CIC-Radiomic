{
 "cells": [
  {
   "cell_type": "markdown",
   "id": "7e01bc95",
   "metadata": {},
   "source": [
    "# Installation des extensions requises\n",
    "\n",
    "Il est important d'inclure le le fichier requierement.txt\n",
    "dans votre repertoire de travail soit indiquer le\n",
    "chemin qui y mene vers le fichier requirement.txt.\n",
    "Une fois que le chemin est bien renseigner, exécuter la commande suivante pour l'installation des bibliothèques"
   ]
  },
  {
   "cell_type": "code",
   "execution_count": null,
   "id": "af609e50",
   "metadata": {},
   "outputs": [],
   "source": [
    "pip install -r requirements.txt"
   ]
  },
  {
   "cell_type": "markdown",
   "id": "e7a9365f",
   "metadata": {},
   "source": [
    "# Import des bibliothèques"
   ]
  },
  {
   "cell_type": "code",
   "execution_count": 71,
   "id": "d2986aa1",
   "metadata": {},
   "outputs": [],
   "source": [
    "import os\n",
    "import sys\n",
    "import csv\n",
    "import ntpath\n",
    "# import nilearn\n",
    "import numpy as np\n",
    "import pandas as pd\n",
    "import nibabel as nib\n",
    "from glob import glob\n",
    "import SimpleITK as sitk\n",
    "import nibabel.processing\n",
    "from radiomics import featureextractor\n",
    "from tqdm import tqdm_notebook as tqdm"
   ]
  },
  {
   "cell_type": "markdown",
   "id": "4dc03d09",
   "metadata": {},
   "source": [
    "# Chemin vers les données\n",
    "\n",
    "Les données sont zipé. Indiquer le chemin complet jusqu'aux données. Le dossier lesions comporte les images et masques avec des pondérations T2w et diffusion ADC en plus des données clinic"
   ]
  },
  {
   "cell_type": "code",
   "execution_count": 130,
   "id": "ce83ad6e",
   "metadata": {},
   "outputs": [],
   "source": [
    "root_dir = \"/home/sama/Documents/Stage_CIC/Stage-Github/lesions/\"\n",
    "\n",
    "clin_info = os.path.join(root_dir, \"PROSTATEx_Classes.csv\")"
   ]
  },
  {
   "cell_type": "code",
   "execution_count": 131,
   "id": "fe1d2c7d",
   "metadata": {},
   "outputs": [],
   "source": [
    "df = pd.read_csv(clin_info)"
   ]
  },
  {
   "cell_type": "markdown",
   "id": "64dc2c34",
   "metadata": {},
   "source": [
    "# Visualisation des données du dataset"
   ]
  },
  {
   "cell_type": "code",
   "execution_count": 132,
   "id": "83ddb407",
   "metadata": {},
   "outputs": [
    {
     "data": {
      "text/html": [
       "<div>\n",
       "<style scoped>\n",
       "    .dataframe tbody tr th:only-of-type {\n",
       "        vertical-align: middle;\n",
       "    }\n",
       "\n",
       "    .dataframe tbody tr th {\n",
       "        vertical-align: top;\n",
       "    }\n",
       "\n",
       "    .dataframe thead th {\n",
       "        text-align: right;\n",
       "    }\n",
       "</style>\n",
       "<table border=\"1\" class=\"dataframe\">\n",
       "  <thead>\n",
       "    <tr style=\"text-align: right;\">\n",
       "      <th></th>\n",
       "      <th>ID</th>\n",
       "      <th>Clinically Significant</th>\n",
       "      <th>Gleason_Grade_Group</th>\n",
       "    </tr>\n",
       "  </thead>\n",
       "  <tbody>\n",
       "    <tr>\n",
       "      <th>0</th>\n",
       "      <td>ProstateX-0000_Finding1</td>\n",
       "      <td>True</td>\n",
       "      <td>3</td>\n",
       "    </tr>\n",
       "    <tr>\n",
       "      <th>1</th>\n",
       "      <td>ProstateX-0001_Finding1</td>\n",
       "      <td>False</td>\n",
       "      <td>1</td>\n",
       "    </tr>\n",
       "    <tr>\n",
       "      <th>2</th>\n",
       "      <td>ProstateX-0002_Finding1</td>\n",
       "      <td>True</td>\n",
       "      <td>2</td>\n",
       "    </tr>\n",
       "    <tr>\n",
       "      <th>3</th>\n",
       "      <td>ProstateX-0002_Finding2</td>\n",
       "      <td>False</td>\n",
       "      <td>1</td>\n",
       "    </tr>\n",
       "    <tr>\n",
       "      <th>4</th>\n",
       "      <td>ProstateX-0003_Finding1</td>\n",
       "      <td>False</td>\n",
       "      <td>No biopsy information</td>\n",
       "    </tr>\n",
       "  </tbody>\n",
       "</table>\n",
       "</div>"
      ],
      "text/plain": [
       "                        ID  Clinically Significant    Gleason_Grade_Group\n",
       "0  ProstateX-0000_Finding1                    True                      3\n",
       "1  ProstateX-0001_Finding1                   False                      1\n",
       "2  ProstateX-0002_Finding1                    True                      2\n",
       "3  ProstateX-0002_Finding2                   False                      1\n",
       "4  ProstateX-0003_Finding1                   False  No biopsy information"
      ]
     },
     "execution_count": 132,
     "metadata": {},
     "output_type": "execute_result"
    }
   ],
   "source": [
    "df.head(5)"
   ]
  },
  {
   "cell_type": "markdown",
   "id": "ade8abc3",
   "metadata": {},
   "source": [
    "# Taille du dataset"
   ]
  },
  {
   "cell_type": "code",
   "execution_count": 133,
   "id": "415d9b0d",
   "metadata": {},
   "outputs": [
    {
     "data": {
      "text/plain": [
       "299"
      ]
     },
     "execution_count": 133,
     "metadata": {},
     "output_type": "execute_result"
    }
   ],
   "source": [
    "len(df)"
   ]
  },
  {
   "cell_type": "markdown",
   "id": "5dfdd7b8",
   "metadata": {},
   "source": [
    "# Suppression des données sans informations de biopsie"
   ]
  },
  {
   "cell_type": "code",
   "execution_count": 134,
   "id": "6769d954",
   "metadata": {},
   "outputs": [],
   "source": [
    "df_clif = pd.read_csv(clin_info) # Permet de regrouper les données en fonction de la colonne des infos clinic\n",
    "\n",
    "df_clif.drop(df_clif[df_clif['Gleason_Grade_Group']=='No biopsy information'].index, inplace=True)\n",
    "df_clif.drop(df_clif[df_clif['ID']=='ProstateX-0028_Finding1'].index, inplace = True)\n",
    "df_clif.drop(df_clif[df_clif['ID']=='ProstateX-0031_Finding1'].index, inplace = True)\n",
    "df_clif.drop(df_clif[df_clif['ID']=='ProstateX-0031_Finding2'].index, inplace = True)\n",
    "df_clif.drop(df_clif[df_clif['ID']=='ProstateX-0128_Finding1'].index, inplace = True)\n",
    "# df_clif.drop(df_clif[df_clif['ID']=='ProstateX-0002_Finding1'].index, inplace = True)\n",
    "# df_clif.drop(df_clif[df_clif['ID']=='ProstateX-0005_Finding1'].index, inplace = True)\n",
    "# df_clif.drop(df_clif[df_clif['ID']=='ProstateX-0014_Finding1'].index, inplace = True)\n",
    "# df_clif.drop(df_clif[df_clif['ID']=='ProstateX-0019_Finding1'].index, inplace = True)\n",
    "# df_clif.drop(df_clif[df_clif['ID']=='ProstateX-0035_Finding1'].index, inplace = True)\n",
    "# df_clif.drop(df_clif[df_clif['ID']=='ProstateX-0037_Finding1'].index, inplace = True)\n",
    "# df_clif.drop(df_clif[df_clif['ID']=='ProstateX-0040_Finding3'].index, inplace = True)\n",
    "# df_clif.drop(df_clif[df_clif['ID']=='ProstateX-0041_Finding1'].index, inplace = True)\n",
    "# df_clif.drop(df_clif[df_clif['ID']=='ProstateX-0054_Finding1'].index, inplace = True)\n",
    "# df_clif.drop(df_clif[df_clif['ID']=='ProstateX-0067_Finding1'].index, inplace = True)\n",
    "\n",
    "df_clif.drop(df_clif [df_clif['ID']=='Finding2'].index, inplace=True)"
   ]
  },
  {
   "cell_type": "code",
   "execution_count": 135,
   "id": "ce330161",
   "metadata": {},
   "outputs": [
    {
     "data": {
      "text/html": [
       "<div>\n",
       "<style scoped>\n",
       "    .dataframe tbody tr th:only-of-type {\n",
       "        vertical-align: middle;\n",
       "    }\n",
       "\n",
       "    .dataframe tbody tr th {\n",
       "        vertical-align: top;\n",
       "    }\n",
       "\n",
       "    .dataframe thead th {\n",
       "        text-align: right;\n",
       "    }\n",
       "</style>\n",
       "<table border=\"1\" class=\"dataframe\">\n",
       "  <thead>\n",
       "    <tr style=\"text-align: right;\">\n",
       "      <th></th>\n",
       "      <th>ID</th>\n",
       "      <th>Clinically Significant</th>\n",
       "      <th>Gleason_Grade_Group</th>\n",
       "    </tr>\n",
       "  </thead>\n",
       "  <tbody>\n",
       "    <tr>\n",
       "      <th>0</th>\n",
       "      <td>ProstateX-0000_Finding1</td>\n",
       "      <td>True</td>\n",
       "      <td>3</td>\n",
       "    </tr>\n",
       "    <tr>\n",
       "      <th>1</th>\n",
       "      <td>ProstateX-0001_Finding1</td>\n",
       "      <td>False</td>\n",
       "      <td>1</td>\n",
       "    </tr>\n",
       "    <tr>\n",
       "      <th>3</th>\n",
       "      <td>ProstateX-0002_Finding2</td>\n",
       "      <td>False</td>\n",
       "      <td>1</td>\n",
       "    </tr>\n",
       "    <tr>\n",
       "      <th>6</th>\n",
       "      <td>ProstateX-0004_Finding1</td>\n",
       "      <td>False</td>\n",
       "      <td>1</td>\n",
       "    </tr>\n",
       "    <tr>\n",
       "      <th>7</th>\n",
       "      <td>ProstateX-0005_Finding0</td>\n",
       "      <td>True</td>\n",
       "      <td>2</td>\n",
       "    </tr>\n",
       "  </tbody>\n",
       "</table>\n",
       "</div>"
      ],
      "text/plain": [
       "                        ID  Clinically Significant Gleason_Grade_Group\n",
       "0  ProstateX-0000_Finding1                    True                   3\n",
       "1  ProstateX-0001_Finding1                   False                   1\n",
       "3  ProstateX-0002_Finding2                   False                   1\n",
       "6  ProstateX-0004_Finding1                   False                   1\n",
       "7  ProstateX-0005_Finding0                    True                   2"
      ]
     },
     "execution_count": 135,
     "metadata": {},
     "output_type": "execute_result"
    }
   ],
   "source": [
    "df_clif.head(5) # Visualisation des données apres suppression"
   ]
  },
  {
   "cell_type": "code",
   "execution_count": 136,
   "id": "3bd41a79",
   "metadata": {},
   "outputs": [
    {
     "data": {
      "text/plain": [
       "99"
      ]
     },
     "execution_count": 136,
     "metadata": {},
     "output_type": "execute_result"
    }
   ],
   "source": [
    "len(df_clif) # Nouvelle taille des données après supression des données ne disposant pas d'information clinique "
   ]
  },
  {
   "cell_type": "markdown",
   "id": "7a7dc6ff",
   "metadata": {},
   "source": [
    "# Création des groupes en fonction du grades de Gleason\n",
    "\n",
    "A ce niveau nous regroupons les données en fontion du grade de Gleason à partir du dataframe df_clif"
   ]
  },
  {
   "cell_type": "code",
   "execution_count": 137,
   "id": "447c04b3",
   "metadata": {},
   "outputs": [],
   "source": [
    "df = df_clif\n",
    "\n",
    "#Grade 1 \n",
    "GG1_Grp = df.groupby(df.Gleason_Grade_Group)\n",
    "GG1 = GG1_Grp.get_group('1')\n",
    "\n",
    "#Grade 2\n",
    "GG2_Grp = df.groupby(df.Gleason_Grade_Group)\n",
    "GG2 = GG1_Grp.get_group('2')\n",
    "\n",
    "# Grade 3\n",
    "GG3_Grp = df.groupby(df.Gleason_Grade_Group)\n",
    "GG3 = GG1_Grp.get_group('3')\n",
    "\n",
    "#Grade 4\n",
    "GG4_Grp = df.groupby(df.Gleason_Grade_Group)\n",
    "GG4 = GG1_Grp.get_group('4')\n",
    "\n",
    "#Grade 5\n",
    "GG5_Grp = df.groupby(df.Gleason_Grade_Group)\n",
    "GG5 = GG1_Grp.get_group('5')"
   ]
  },
  {
   "cell_type": "markdown",
   "id": "68bb30b5",
   "metadata": {},
   "source": [
    "# Extraction des ID des patiens\n",
    "\n",
    "Nous aloons récupérer à ce niveau les les indexes ou les ID(Identifiant) de chaque patients en fonction des grades dans des fichiers différents(GG1.txt, GG2.txt, ...., GG5.txt). \n",
    "\n",
    "NB: Indiquer le chemin correspondant à l'emplacement du dossier dans lequel vous allez effectuer la sauvegarde"
   ]
  },
  {
   "cell_type": "code",
   "execution_count": 138,
   "id": "16ff1b9f",
   "metadata": {},
   "outputs": [],
   "source": [
    "GG1_dic = []\n",
    "GG2_dic = []\n",
    "GG3_dic = []\n",
    "GG4_dic = []\n",
    "GG5_dic = []\n",
    "\n",
    "for gg1 in GG1['ID']:\n",
    "    GG1_dic.append(gg1)\n",
    "    gg1 = gg1.split('_')[0]\n",
    "    txt_file = open('lesions/Patient_ID/GG1.txt', 'a')\n",
    "    txt_file.write(gg1 + \"\\n\")\n",
    "    \n",
    "for gg2 in GG2['ID']:\n",
    "    GG2_dic.append(gg2)\n",
    "    gg2 = gg2.split('_')[0]\n",
    "    txt_file = open('lesions/Patient_ID/GG2.txt', 'a')\n",
    "    txt_file.write(gg2 + \"\\n\")\n",
    "    \n",
    "for gg3 in GG3['ID']:\n",
    "    GG3_dic.append(gg3)\n",
    "    gg3 = gg3.split('_')[0]\n",
    "    txt_file = open('lesions/Patient_ID/GG3.txt', 'a')\n",
    "    txt_file.write(gg3 + \"\\n\")\n",
    "    \n",
    "for gg4 in GG4['ID']:\n",
    "    GG4_dic.append(gg4)\n",
    "    gg4 = gg4.split('_')[0]\n",
    "    txt_file = open('lesions/Patient_ID/GG4.txt', 'a')\n",
    "    txt_file.write(gg4 + \"\\n\")\n",
    "    \n",
    "for gg5 in GG5['ID']:\n",
    "    GG5_dic.append(gg5)\n",
    "    gg5 = gg5.split('_')[0]\n",
    "    txt_file = open('lesions/Patient_ID/GG5.txt', 'a')\n",
    "    txt_file.write(gg5 + \"\\n\")"
   ]
  },
  {
   "cell_type": "markdown",
   "id": "f9edaa30",
   "metadata": {},
   "source": [
    "A ce niveau , nous créons des liste pour récupérer les identifiants des patients sauvegarder des les dictionnaires et fichiers précedement"
   ]
  },
  {
   "cell_type": "code",
   "execution_count": 139,
   "id": "c75f08dd",
   "metadata": {},
   "outputs": [],
   "source": [
    "GG1_indexes = []\n",
    "GG2_indexes = []\n",
    "GG3_indexes = []\n",
    "GG4_indexes = []\n",
    "GG5_indexes = []\n",
    "\n",
    "for img in GG1_dic:\n",
    "    GG1_indexes.append(img.split('-')[-1].split('_')[0])\n",
    "\n",
    "for img in GG2_dic:\n",
    "    GG2_indexes.append(img.split('-')[-1].split('_')[0])\n",
    "\n",
    "for img in GG3_dic:\n",
    "    GG3_indexes.append(img.split('-')[-1].split('_')[0])\n",
    "\n",
    "for img in GG4_dic:\n",
    "    GG4_indexes.append(img.split('-')[-1].split('_')[0])\n",
    "\n",
    "for img in GG5_dic:\n",
    "    GG5_indexes.append(img.split('-')[-1].split('_')[0])"
   ]
  },
  {
   "cell_type": "markdown",
   "id": "e28c98db",
   "metadata": {},
   "source": [
    "# Pretraitment\n",
    "\n",
    "A ce niveau , nous définissons des fonction nous permettant de normaliser les données des images et leus masques"
   ]
  },
  {
   "cell_type": "code",
   "execution_count": 69,
   "id": "2e20cc91",
   "metadata": {},
   "outputs": [],
   "source": [
    "def correctBiasField(img_input, mask):\n",
    "   \n",
    "\n",
    "    corrected = False\n",
    "    img_output = np.zeros(img_input.shape)\n",
    "\n",
    "    corrector = sitk.N4BiasFieldCorrectionImageFilter()\n",
    "    inputImage = sitk.GetImageFromArray(img_input)\n",
    "    maskImage = sitk.GetImageFromArray((mask > 0.9).astype(np.uint8))\n",
    "    inputImage = sitk.Cast(inputImage, sitk.sitkFloat32)\n",
    "    output = corrector.Execute(inputImage, maskImage)\n",
    "    img_output = sitk.GetArrayFromImage(output)\n",
    "    corrected = True\n",
    "      \n",
    "    return img_output\n",
    "\n",
    "\n",
    "def filterMedian(img_input, perc):\n",
    "    \n",
    "    img_flattened = img_input.flatten()\n",
    "\n",
    "    th_low = np.percentile(img_flattened, perc)\n",
    "    th_up = np.percentile(img_flattened, 100 - perc)\n",
    "\n",
    "    mask_low = img_input < th_low\n",
    "    mask_up = img_input > th_up\n",
    "\n",
    "    img_output = img_input * (1 - mask_up) + th_up * mask_up\n",
    "    img_output = img_output * (1 - mask_low) + th_low * mask_low\n",
    "\n",
    "    return img_output\n",
    "\n",
    "\n",
    "def normROI(img_input, mask):\n",
    "    \n",
    "    mask_binary = (mask > 0.9).astype(int)\n",
    "    mask_nan = mask_binary / mask_binary\n",
    "    img_masked_nan = img_input * mask_nan\n",
    "\n",
    "    m = np.nanmean(img_masked_nan)\n",
    "    s = np.nanstd(img_masked_nan)\n",
    "\n",
    "    img_output = (img_input - m) * mask_binary / s\n",
    "\n",
    "    return img_output"
   ]
  },
  {
   "cell_type": "markdown",
   "id": "e5a79dd0",
   "metadata": {},
   "source": [
    "# Bias Field Correction"
   ]
  },
  {
   "cell_type": "markdown",
   "id": "1a39315b",
   "metadata": {},
   "source": [
    "Nous appliquons la fonction précedente à nos données et les nouvelles données image générer sont sauvegarder pour être utiliser pour extraire les caractéristiques radiomiques.\n",
    "\n",
    "NB: Les dossier sont déjà disponible dans le dossier lesion comme indiquer dans le Readme.md, il ne restera qu'à exécuter le code après les pré-requis indiquer dans le readme"
   ]
  },
  {
   "cell_type": "markdown",
   "id": "8d8ccb2d",
   "metadata": {},
   "source": [
    "# GG1"
   ]
  },
  {
   "cell_type": "markdown",
   "id": "b19ea40b",
   "metadata": {},
   "source": [
    " * ADC"
   ]
  },
  {
   "cell_type": "code",
   "execution_count": 82,
   "id": "13e1108a",
   "metadata": {},
   "outputs": [
    {
     "name": "stdout",
     "output_type": "stream",
     "text": [
      "END of GG1\n"
     ]
    }
   ],
   "source": [
    "#Chemin vers nos données images et masques\n",
    "root_dir = \"lesions\"\n",
    "\n",
    "#Chemin de sauvegarde des données normalisés\n",
    "save_root_dir = \"lesions/Img_msk_resambled\"\n",
    "\n",
    "adc_igm_dir = os.path.join(root_dir,\"Images/ADC\")\n",
    "adc_msk_dir = os.path.join(root_dir,\"Masks/ADC\")\n",
    "\n",
    "GG1_img_save = os.path.join(save_root_dir, \"GG1/Images_Resamble/ADC\")\n",
    "\n",
    "for index in GG1_indexes:\n",
    "    adc_img = glob(adc_igm_dir + '/*' + index + '*')[0]\n",
    "    adc_img_nii = nib.load(adc_img)\n",
    "    img = adc_img_nii.get_fdata()\n",
    "    print(\"img-\"+index+\" : \",adc_img_nii.shape)\n",
    "\n",
    "    adc_msk = glob(adc_msk_dir + '/*' + index + '*')[0]\n",
    "    adc_msk_nii = nib.load(adc_msk)\n",
    "    mask = adc_msk_nii.get_fdata()\n",
    "    print(\"msk-\"+index+\" : \",adc_msk_nii.shape)\n",
    "    \n",
    "    adc_img_bfc = correctBiasField(img, mask)\n",
    "    adc_img_bfc_nii = nib.Nifti1Image(adc_img_bfc, adc_img_nii.affine)\n",
    "    print(\"img_norm-\"+index+\" : \",adc_img_bfc_nii.shape)\n",
    "    print('-------------------------')\n",
    "    nib.save(adc_img_bfc_nii, os.path.join(GG1_img_save, ntpath.basename(adc_img)[:-17] + 'adc_preprocessed.nii'))\n",
    "    \n",
    "print('END of GG1')"
   ]
  },
  {
   "cell_type": "markdown",
   "id": "31d45e0e",
   "metadata": {},
   "source": [
    " * T2"
   ]
  },
  {
   "cell_type": "code",
   "execution_count": 26,
   "id": "63acce92",
   "metadata": {},
   "outputs": [
    {
     "name": "stdout",
     "output_type": "stream",
     "text": [
      "END of GG1\n"
     ]
    }
   ],
   "source": [
    "#Chemin vers nos données images et masques\n",
    "root_dir = \"lesions\"\n",
    "\n",
    "#Chemin de sauvegarde des données normalisés\n",
    "save_root_dir = \"lesions/Img_msk_resambled\"\n",
    "\n",
    "t2_igm_dir = os.path.join(root_dir,\"Images/T2\")\n",
    "t2_msk_dir = os.path.join(root_dir,\"Masks/T2\")\n",
    "\n",
    "GG1_img_save = os.path.join(save_root_dir, \"GG1/Images_Resamble/T2\")\n",
    "\n",
    "for index in GG1_indexes:\n",
    "    t2_img = glob(t2_igm_dir + '/*' + index + '*')[0]\n",
    "    t2_img_nii = nib.load(t2_img)\n",
    "    img = t2_img_nii.get_fdata()\n",
    "    print(\"img-\"+index+\" : \",t2_img_nii.shape)\n",
    "\n",
    "    t2_msk = glob(t2_msk_dir + '/*' + index + '*')[0]\n",
    "    t2_msk_nii = nib.load(t2_msk)\n",
    "    mask = t2_msk_nii.get_fdata()\n",
    "    print(\"msk-\"+index+\" : \",t2_msk_nii.shape)\n",
    "    \n",
    "    t2_img_bfc = correctBiasField(img, mask)\n",
    "    t2_img_bfc_nii = nib.Nifti1Image(t2_img_bfc, t2_img_nii.affine)\n",
    "    print(\"img_norm-\"+index+\" : \",t2_img_bfc_nii.shape)\n",
    "    print('-------------------------')\n",
    "    nib.save(t2_img_bfc_nii, os.path.join(GG1_img_save, ntpath.basename(t2_img)[:-14] + '_preprocessed.nii'))\n",
    "    \n",
    "print('END of GG1')"
   ]
  },
  {
   "cell_type": "markdown",
   "id": "85be4974",
   "metadata": {},
   "source": [
    "GG2"
   ]
  },
  {
   "cell_type": "markdown",
   "id": "5f8f23d4",
   "metadata": {},
   "source": [
    "* ADC"
   ]
  },
  {
   "cell_type": "code",
   "execution_count": 155,
   "id": "b41ed7b2",
   "metadata": {},
   "outputs": [],
   "source": [
    "#Chemin vers nos données images et masques\n",
    "root_dir = \"lesions\"\n",
    "\n",
    "#Chemin de sauvegarde des données normalisés\n",
    "save_root_dir = \"lesions/Img_msk_resambled\"\n",
    "\n",
    "adc_igm_dir = os.path.join(root_dir,\"Images/ADC\")\n",
    "adc_msk_dir = os.path.join(root_dir,\"Masks/ADC\")\n",
    "\n",
    "GG2_img_save = os.path.join(save_root_dir, \"GG2/Images_Resamble/ADC\")\n",
    "\n",
    "for index in GG2_indexes:\n",
    "    adc_img = glob(adc_igm_dir + '/*' + index + '*')[0]\n",
    "    adc_img_nii = nib.load(adc_img)\n",
    "    img = adc_img_nii.get_fdata()\n",
    "    print(\"img-\"+index+\" : \",adc_img_nii.shape)\n",
    "\n",
    "    adc_msk = glob(adc_msk_dir + '/*' + index + '*')[0]\n",
    "    adc_msk_nii = nib.load(adc_msk)\n",
    "    mask = adc_msk_nii.get_fdata()\n",
    "    print(\"msk-\"+index+\" : \",adc_msk_nii.shape)\n",
    "    \n",
    "    adc_img_bfc = correctBiasField(img, mask)\n",
    "    adc_img_bfc_nii = nib.Nifti1Image(adc_img_bfc, adc_img_nii.affine)\n",
    "    print(\"img_norm-\"+index+\" : \",adc_img_bfc_nii.shape)\n",
    "    print('-------------------------')\n",
    "    nib.save(adc_img_bfc_nii, os.path.join(GG2_img_save, ntpath.basename(adc_img)[:-17] + 'adc_preprocessed.nii'))\n",
    "    \n",
    "print('END of GG2')"
   ]
  },
  {
   "cell_type": "markdown",
   "id": "cc841fc4",
   "metadata": {},
   "source": [
    "* T2"
   ]
  },
  {
   "cell_type": "code",
   "execution_count": 154,
   "id": "bc75f5fb",
   "metadata": {},
   "outputs": [],
   "source": [
    "#Chemin vers nos données images et masques\n",
    "root_dir = \"lesions\"\n",
    "\n",
    "#Chemin de sauvegarde des données normalisés\n",
    "save_root_dir = \"lesions/Img_msk_resambled\"\n",
    "\n",
    "t2_igm_dir = os.path.join(root_dir,\"Images/T2\")\n",
    "t2_msk_dir = os.path.join(root_dir,\"Masks/T2\")\n",
    "\n",
    "GG2_img_save = os.path.join(save_root_dir, \"GG2/Images_Resamble/T2\")\n",
    "\n",
    "for index in GG2_indexes:\n",
    "    t2_img = glob(t2_igm_dir + '/*' + index + '*')[0]\n",
    "    t2_img_nii = nib.load(t2_img)\n",
    "    img = t2_img_nii.get_fdata()\n",
    "    print(\"img-\"+index+\" : \",t2_img_nii.shape)\n",
    "    \n",
    "    t2_msk = glob(t2_msk_dir + '/*' + index + '*')[0]\n",
    "    t2_msk_nii = nib.load(t2_msk)\n",
    "    mask = t2_msk_nii.get_fdata()\n",
    "    print(\"msk-\"+index+\" : \",t2_msk_nii.shape)\n",
    "    \n",
    "    t2_img_bfc = correctBiasField(img, mask)\n",
    "    t2_img_bfc_nii = nib.Nifti1Image(t2_img_bfc, t2_img_nii.affine)\n",
    "    print(\"img_norm-\"+index+\" : \",t2_img_bfc_nii.shape)\n",
    "    print('-------------------------')\n",
    "    nib.save(t2_img_bfc_nii, os.path.join(GG2_img_save, ntpath.basename(t2_img)[:-14] + '_preprocessed.nii'))\n",
    "    \n",
    "print('END of GG2')"
   ]
  },
  {
   "cell_type": "markdown",
   "id": "a298df8a",
   "metadata": {},
   "source": [
    "GG3"
   ]
  },
  {
   "cell_type": "markdown",
   "id": "8a253a3f",
   "metadata": {},
   "source": [
    "* ADC"
   ]
  },
  {
   "cell_type": "code",
   "execution_count": 23,
   "id": "e392687c",
   "metadata": {},
   "outputs": [
    {
     "name": "stdout",
     "output_type": "stream",
     "text": [
      "END of GG3\n"
     ]
    }
   ],
   "source": [
    "#Chemin vers nos données images et masques\n",
    "root_dir = \"lesions\"\n",
    "\n",
    "#Chemin de sauvegarde des données normalisés\n",
    "save_root_dir = \"lesions/Img_msk_resambled\"\n",
    "\n",
    "adc_igm_dir = os.path.join(root_dir,\"Images/ADC\")\n",
    "adc_msk_dir = os.path.join(root_dir,\"Masks/ADC\")\n",
    "\n",
    "GG3_img_save = os.path.join(save_root_dir, \"GG3/Images_Resamble/ADC\")\n",
    "\n",
    "for index in GG3_indexes:\n",
    "    adc_img = glob(adc_igm_dir + '/*' + index + '*')[0]\n",
    "    adc_img_nii = nib.load(adc_img)\n",
    "    img = adc_img_nii.get_fdata()\n",
    "    print(\"img-\"+index+\" : \",adc_img_nii.shape)\n",
    "\n",
    "    adc_msk = glob(adc_msk_dir + '/*' + index + '*')[0]\n",
    "    adc_msk_nii = nib.load(adc_msk)\n",
    "    mask = adc_msk_nii.get_fdata()\n",
    "    print(\"msk-\"+index+\" : \",adc_msk_nii.shape)\n",
    "    \n",
    "    adc_img_bfc = correctBiasField(img, mask)\n",
    "    adc_img_bfc_nii = nib.Nifti1Image(adc_img_bfc, adc_img_nii.affine)\n",
    "    print(\"img_norm-\"+index+\" : \",adc_img_bfc_nii.shape)\n",
    "    print('-------------------------')\n",
    "    nib.save(adc_img_bfc_nii, os.path.join(GG3_img_save, ntpath.basename(adc_img)[:-17] + 'adc_preprocessed.nii'))\n",
    "    \n",
    "print('END of GG3')"
   ]
  },
  {
   "cell_type": "markdown",
   "id": "081b871d",
   "metadata": {},
   "source": [
    "* T2"
   ]
  },
  {
   "cell_type": "code",
   "execution_count": 28,
   "id": "511e077e",
   "metadata": {},
   "outputs": [
    {
     "name": "stdout",
     "output_type": "stream",
     "text": [
      "END of GG3\n"
     ]
    }
   ],
   "source": [
    "#Chemin vers nos données images et masques\n",
    "root_dir = \"lesions\"\n",
    "\n",
    "#Chemin de sauvegarde des données normalisés\n",
    "save_root_dir = \"lesions/Img_msk_resambled\"\n",
    "\n",
    "t2_igm_dir = os.path.join(root_dir,\"Images/T2\")\n",
    "t2_msk_dir = os.path.join(root_dir,\"Masks/T2\")\n",
    "\n",
    "GG3_img_save = os.path.join(save_root_dir, \"GG3/Images_Resamble/T2\")\n",
    "\n",
    "for index in GG3_indexes:\n",
    "    t2_img = glob(t2_igm_dir + '/*' + index + '*')[0]\n",
    "    t2_img_nii = nib.load(t2_img)\n",
    "    img = t2_img_nii.get_fdata()\n",
    "    print(\"img-\"+index+\" : \",t2_img_nii.shape)\n",
    "    \n",
    "    t2_msk = glob(t2_msk_dir + '/*' + index + '*')[0]\n",
    "    t2_msk_nii = nib.load(t2_msk)\n",
    "    mask = t2_msk_nii.get_fdata()\n",
    "    print(\"msk-\"+index+\" : \",t2_msk_nii.shape)\n",
    "    \n",
    "    t2_img_bfc = correctBiasField(img, mask)\n",
    "    t2_img_bfc_nii = nib.Nifti1Image(t2_img_bfc, t2_img_nii.affine)\n",
    "    print(\"img_norm-\"+index+\" : \",t2_img_bfc_nii.shape)\n",
    "    print('-------------------------')\n",
    "    nib.save(t2_img_bfc_nii, os.path.join(GG3_img_save, ntpath.basename(t2_img)[:-14] + '_preprocessed.nii'))\n",
    "    \n",
    "print('END of GG3')"
   ]
  },
  {
   "cell_type": "code",
   "execution_count": null,
   "id": "f9f0d405",
   "metadata": {},
   "outputs": [],
   "source": [
    "GG4"
   ]
  },
  {
   "cell_type": "markdown",
   "id": "6337d1af",
   "metadata": {},
   "source": [
    "* ADC"
   ]
  },
  {
   "cell_type": "code",
   "execution_count": 52,
   "id": "da850ceb",
   "metadata": {},
   "outputs": [
    {
     "name": "stdout",
     "output_type": "stream",
     "text": [
      "END of GG4\n"
     ]
    }
   ],
   "source": [
    "#Chemin vers nos données images et masques\n",
    "root_dir = \"lesions\"\n",
    "\n",
    "#Chemin de sauvegarde des données normalisés\n",
    "save_root_dir = \"lesions/Img_msk_resambled\"\n",
    "\n",
    "adc_igm_dir = os.path.join(root_dir,\"Images/ADC\")\n",
    "adc_msk_dir = os.path.join(root_dir,\"Masks/ADC\")\n",
    "\n",
    "GG4_img_save = os.path.join(save_root_dir, \"GG4/Images_Resamble/ADC\")\n",
    "\n",
    "for index in GG4_indexes:\n",
    "    adc_img = glob(adc_igm_dir + '/*' + index + '*')[0]\n",
    "    adc_img_nii = nib.load(adc_img)\n",
    "    img = adc_img_nii.get_fdata()\n",
    "    print(\"img-\"+index+\" : \",adc_img_nii.shape)\n",
    "\n",
    "    adc_msk = glob(adc_msk_dir + '/*' + index + '*')[0]\n",
    "    adc_msk_nii = nib.load(adc_msk)\n",
    "    mask = adc_msk_nii.get_fdata()\n",
    "    print(\"msk-\"+index+\" : \",adc_msk_nii.shape)\n",
    "    \n",
    "    adc_img_bfc = correctBiasField(img, mask)\n",
    "    adc_img_bfc_nii = nib.Nifti1Image(adc_img_bfc, adc_img_nii.affine)\n",
    "    print(\"img_norm-\"+index+\" : \",adc_img_bfc_nii.shape)\n",
    "    print('-------------------------')\n",
    "    nib.save(adc_img_bfc_nii, os.path.join(GG4_img_save, ntpath.basename(adc_img)[:-17] + 'adc_preprocessed.nii'))\n",
    "    \n",
    "print('END of GG4')"
   ]
  },
  {
   "cell_type": "markdown",
   "id": "0dc864a8",
   "metadata": {},
   "source": [
    "* T2"
   ]
  },
  {
   "cell_type": "code",
   "execution_count": 29,
   "id": "d15e5be5",
   "metadata": {},
   "outputs": [
    {
     "name": "stdout",
     "output_type": "stream",
     "text": [
      "END of GG4\n"
     ]
    }
   ],
   "source": [
    "#Chemin vers nos données images et masques\n",
    "root_dir = \"lesions\"\n",
    "\n",
    "#Chemin de sauvegarde des données normalisés\n",
    "save_root_dir = \"lesions/Img_msk_resambled\"\n",
    "\n",
    "t2_igm_dir = os.path.join(root_dir,\"Images/T2\")\n",
    "t2_msk_dir = os.path.join(root_dir,\"Masks/T2\")\n",
    "\n",
    "GG4_img_save = os.path.join(save_root_dir, \"GG4/Images_Resamble/T2\")\n",
    "\n",
    "for index in GG4_indexes:\n",
    "    t2_img = glob(t2_igm_dir + '/*' + index + '*')[0]\n",
    "    t2_img_nii = nib.load(t2_img)\n",
    "    img = t2_img_nii.get_fdata()\n",
    "    print(\"img-\"+index+\" : \",t2_img_nii.shape)\n",
    "\n",
    "    t2_msk = glob(t2_msk_dir + '/*' + index + '*')[0]\n",
    "    t2_msk_nii = nib.load(t2_msk)\n",
    "    mask = t2_msk_nii.get_fdata()\n",
    "    print(\"msk-\"+index+\" : \",t2_msk_nii.shape)\n",
    "    \n",
    "    t2_img_bfc = correctBiasField(img, mask)\n",
    "    t2_img_bfc_nii = nib.Nifti1Image(t2_img_bfc, t2_img_nii.affine)\n",
    "    print(\"img_norm-\"+index+\" : \",t2_img_bfc_nii.shape)\n",
    "    print('-------------------------')\n",
    "    nib.save(t2_img_bfc_nii, os.path.join(GG4_img_save, ntpath.basename(t2_img)[:-14] + '_preprocessed.nii'))\n",
    "    \n",
    "print('END of GG4')"
   ]
  },
  {
   "cell_type": "code",
   "execution_count": null,
   "id": "3c4e5ccf",
   "metadata": {},
   "outputs": [],
   "source": [
    "GG5"
   ]
  },
  {
   "cell_type": "markdown",
   "id": "8f0f4540",
   "metadata": {},
   "source": [
    "* ADC"
   ]
  },
  {
   "cell_type": "code",
   "execution_count": 35,
   "id": "b85ba26b",
   "metadata": {},
   "outputs": [
    {
     "name": "stdout",
     "output_type": "stream",
     "text": [
      "END of GG5\n"
     ]
    }
   ],
   "source": [
    "#Chemin vers nos données images et masques\n",
    "root_dir = \"lesions\"\n",
    "\n",
    "#Chemin de sauvegarde des données normalisés\n",
    "save_root_dir = \"lesions/Img_msk_resambled\"\n",
    "\n",
    "adc_igm_dir = os.path.join(root_dir,\"Images/ADC\")\n",
    "adc_msk_dir = os.path.join(root_dir,\"Masks/ADC\")\n",
    "\n",
    "GG5_img_save = os.path.join(save_root_dir, \"GG5/Images_Resamble/ADC\")\n",
    "\n",
    "for index in GG5_indexes:\n",
    "    adc_img = glob(adc_igm_dir + '/*' + index + '*')[0]\n",
    "    adc_img_nii = nib.load(adc_img)\n",
    "    img = adc_img_nii.get_fdata()\n",
    "    print(\"img-\"+index+\" : \",adc_img_nii.shape)\n",
    "\n",
    "    adc_msk = glob(adc_msk_dir + '/*' + index + '*')[0]\n",
    "    adc_msk_nii = nib.load(adc_msk)\n",
    "    mask = adc_msk_nii.get_fdata()\n",
    "    print(\"msk-\"+index+\" : \",adc_msk_nii.shape)\n",
    "    \n",
    "    adc_img_bfc = correctBiasField(img, mask)\n",
    "    adc_img_bfc_nii = nib.Nifti1Image(adc_img_bfc, adc_img_nii.affine)\n",
    "    print(\"img_norm-\"+index+\" : \",adc_img_bfc_nii.shape)\n",
    "    print('-------------------------')\n",
    "    nib.save(adc_img_bfc_nii, os.path.join(GG5_img_save, ntpath.basename(adc_img)[:-17] + 'adc_preprocessed.nii'))\n",
    "    \n",
    "print('END of GG5')"
   ]
  },
  {
   "cell_type": "markdown",
   "id": "2ec027e3",
   "metadata": {},
   "source": [
    "* T2"
   ]
  },
  {
   "cell_type": "code",
   "execution_count": 37,
   "id": "aec2f7ac",
   "metadata": {},
   "outputs": [
    {
     "name": "stdout",
     "output_type": "stream",
     "text": [
      "END of GG5\n"
     ]
    }
   ],
   "source": [
    "#Chemin vers nos données images et masques\n",
    "root_dir = \"lesions\"\n",
    "\n",
    "#Chemin de sauvegarde des données normalisés\n",
    "save_root_dir = \"lesions/Img_msk_resambled\"\n",
    "\n",
    "t2_igm_dir = os.path.join(root_dir,\"Images/T2\")\n",
    "t2_msk_dir = os.path.join(root_dir,\"Masks/T2\")\n",
    "\n",
    "GG5_img_save = os.path.join(save_root_dir, \"GG5/Images_Resamble/T2\")\n",
    "\n",
    "for index in GG5_indexes:\n",
    "    t2_img = glob(t2_igm_dir + '/*' + index + '*')[0]\n",
    "    t2_img_nii = nib.load(t2_img)\n",
    "    img = t2_img_nii.get_fdata()\n",
    "    print(\"img-\"+index+\" : \",t2_img_nii.shape)\n",
    "\n",
    "    t2_msk = glob(t2_msk_dir + '/*' + index + '*')[0]\n",
    "    t2_msk_nii = nib.load(t2_msk)\n",
    "    mask = t2_msk_nii.get_fdata()\n",
    "    print(\"msk-\"+index+\" : \",t2_msk_nii.shape)\n",
    "    \n",
    "    \n",
    "    t2_img_bfc = correctBiasField(img, mask)\n",
    "    t2_img_bfc_nii = nib.Nifti1Image(t2_img_bfc, t2_img_nii.affine)\n",
    "    print(\"img_norm-\"+index+\" : \",t2_img_bfc_nii.shape)\n",
    "    print('-------------------------')\n",
    "    nib.save(t2_img_bfc_nii, os.path.join(GG5_img_save, ntpath.basename(t2_img)[:-14] + '_preprocessed.nii'))\n",
    "    \n",
    "print('END of GG5')"
   ]
  },
  {
   "cell_type": "markdown",
   "id": "2feb1cd7",
   "metadata": {},
   "source": [
    "# Features extractions\n",
    "\n",
    "Dans cette partie nous allons extraire les caractéristiques radiomique en fonctions des grades "
   ]
  },
  {
   "cell_type": "code",
   "execution_count": 114,
   "id": "c8207ae0",
   "metadata": {},
   "outputs": [],
   "source": [
    "def extractFeatures(img_input, mask):\n",
    "\n",
    "    i = sitk.GetImageFromArray(img_input) #Chargement des images et masques sous forme matriciel\n",
    "    m = sitk.GetImageFromArray(mask)\n",
    "    f_v = {}  # Initialisation de dictionnaire\n",
    "\n",
    "    #Création de dictionnaire d'initialisation\n",
    "    settings = {}\n",
    "    settings['preCrop'] = True\n",
    "    settings['normalize'] = False\n",
    "    settings['binCount'] = 50\n",
    "    settings['resampledPixelSpacing'] = None\n",
    "    settings['interpolator'] = sitk.sitkBSpline\n",
    "\n",
    "    #Variable d'extraction de features radiomics à partir de featureextractor de la bibliothèque PyRadiomic\n",
    "    extractor = featureextractor.RadiomicsFeatureExtractor(**settings)\n",
    "    \n",
    "    extractor.addProvenance(False)\n",
    "    extractor.disableAllFeatures()\n",
    "    extractor.enableImageTypes(Original={})\n",
    "\n",
    "    # Définition des différentes caractéristiques à extraire\n",
    "    extractor.enableFeatureClassByName('firstorder', enabled=True)\n",
    "    extractor.enableFeatureClassByName('shape', enabled=True)\n",
    "    extractor.enableFeatureClassByName('glcm', enabled=True)\n",
    "    extractor.enableFeatureClassByName('glrlm', enabled=True)\n",
    "    extractor.enableFeatureClassByName('glszm', enabled=True)\n",
    "    extractor.enableFeatureClassByName('gldm', enabled=True)\n",
    "    extractor.enableFeatureClassByName('ngtdm', enabled=True)\n",
    "\n",
    "    # Passage de l'image et du masque pour l'extraction\n",
    "    extracted_ftrs = extractor.execute(i, m)\n",
    "\n",
    "    # Définition de la clef et valeur pour les caractéristiques à extraire\n",
    "    for key, value in extracted_ftrs.items():\n",
    "        f_v[key] = value\n",
    "\n",
    "    return f_v"
   ]
  },
  {
   "cell_type": "code",
   "execution_count": 115,
   "id": "47f4ced3",
   "metadata": {},
   "outputs": [],
   "source": [
    "# Cette fontion permet de créer les en-tête des colonnes\n",
    "\n",
    "def createHeader():\n",
    "    \n",
    "    f = {'sub': ''}\n",
    "    i_t = np.ones((2, 2, 2))\n",
    "    m_t = np.zeros((2, 2, 2))\n",
    "    m_t[0, 0, 0] = 1\n",
    "    m_t[1, 1, 1] = 1\n",
    "    f.update(extractFeatures(i_t, m_t))\n",
    "\n",
    "    return list(f.keys())"
   ]
  },
  {
   "cell_type": "code",
   "execution_count": 116,
   "id": "2608b03e",
   "metadata": {},
   "outputs": [],
   "source": [
    "#Fonction d'extraction proprement dite\n",
    "\n",
    "def extractFromeTissuesThroughSubFolders(ds_folder, ds_names, \n",
    "                                         adc_modality = 'ADC', \n",
    "                                         t2_modality = 'T2'):\n",
    "    \n",
    "    gg = ds_folder.split('/')[-2]\n",
    "    \n",
    "    h = createHeader()\n",
    "    \n",
    "    # Dossier pour sauvegarder les caractéristiques extraits\n",
    "    root_dir = 'lesions/ADC_T2_Images_Analyses/ADC_T2_features/'\n",
    "    \n",
    "    mask_dir = 'lesions/'\n",
    "    \n",
    "    #ouverture du fichier avec option ajout 'a' si le fichier n'existe pas\n",
    "    adc_csv_file = open(root_dir  + gg + '_' + adc_modality + '_features.csv' , 'a')\n",
    "    \n",
    "    #Ecriture des caractéristiquex extraits dans le fichier créer\n",
    "    adc_writer = csv.DictWriter(adc_csv_file, fieldnames = h, lineterminator='\\n')\n",
    "    adc_writer.writeheader()\n",
    "    \n",
    "    #ouverture du fichier avec option ajout 'a' si le fichier n'existe pas\n",
    "    t2_csv_file = open(root_dir + gg + '_' + t2_modality + '_features.csv' , 'a')\n",
    "    \n",
    "    #Ecriture des caractéristiquex extraits dans le fichier créer\n",
    "    t2_writer = csv.DictWriter(t2_csv_file, fieldnames = h, lineterminator='\\n')\n",
    "    t2_writer.writeheader()\n",
    "    \n",
    "    with tqdm(total=len(ds_names), file=sys.stdout) as pbar:        \n",
    "        for sub in ds_names: #ds_name représente les indexes des patients regrouper précédement en fonction des grades\n",
    "\n",
    "            #Chargement des images normalisées ADC  \n",
    "            adc_img_path = ds_folder + \"Images_Resamble/\" + adc_modality + '/ProstateX-' + sub +'_ep2d_adc_preprocessed.nii'\n",
    "            adc_img_nii = nib.load(adc_img_path)\n",
    "            adc_img =adc_img_nii.get_fdata()\n",
    "    \n",
    "            # Chargement des images normalisées T2  \n",
    "            t2_img_path = ds_folder + \"Images_Resamble/\" + t2_modality + '/ProstateX-' + sub +'_preprocessed.nii'\n",
    "            t2_img_nii = nib.load(t2_img_path)\n",
    "            t2_img =t2_img_nii.get_fdata()\n",
    "                \n",
    "            # Chargement des masques ADC pour chaque image. C'est l'importances des indexes d'images qui nous permettent\n",
    "            # d'utiliser pour chaque image le masque correspondant\n",
    "            adc_roi_path = mask_dir + 'Masks/'  + adc_modality + '/ProstateX-' + sub + '-Finding_ADC.nii.gz'                         \n",
    "            adc_roi_nii = nib.load(adc_roi_path)\n",
    "            adc_roi = adc_roi_nii.get_fdata()\n",
    "            \n",
    "            # Chargement des masques T2\n",
    "            t2_roi_path = mask_dir + 'Masks/'  + t2_modality + '/ProstateX-' + sub + '-Finding-t2_ROI.nii.gz'                         \n",
    "            t2_roi_nii = nib.load(t2_roi_path)\n",
    "            t2_roi = t2_roi_nii.get_fdata()\n",
    "            \n",
    "            adc_img_preproc = np.copy(adc_img)\n",
    "            t2_img_preproc = np.copy(t2_img)\n",
    "            \n",
    "            # Création de la colonne Sub à qui on affecte l'index qui représente l'ID du patient\n",
    "            # précéder de ProstateX\n",
    "            f_sub_adc = {'sub': 'ProstateX_' + str(sub)}\n",
    "            # Association du f_sub_adc créer aux carractéristiques extraits pour chaque patient\n",
    "            f_sub_adc.update(extractFeatures(adc_img_preproc, adc_roi))\n",
    "            adc_writer.writerow(f_sub_adc)\n",
    "            \n",
    "            f_sub_t2 = {'sub': 'ProstateX_' + str(sub)}\n",
    "            f_sub_t2.update(extractFeatures(t2_img_preproc, t2_roi))\n",
    "            t2_writer.writerow(f_sub_t2)\n",
    "\n",
    "            pbar.set_description('processed: %s' % sub)\n",
    "            pbar.update(1)\n",
    "\n",
    "\n",
    "    adc_csv_file.close()\n",
    "    t2_csv_file.close()"
   ]
  },
  {
   "cell_type": "code",
   "execution_count": 117,
   "id": "812a7a13",
   "metadata": {},
   "outputs": [],
   "source": [
    "root = 'lesions/Img_msk_resambled'\n",
    "\n",
    "ds1_folder = os.path.join(root, 'GG1/')\n",
    "ds2_folder = os.path.join(root, 'GG2/')\n",
    "ds3_folder = os.path.join(root, 'GG3/')\n",
    "ds4_folder = os.path.join(root, 'GG4/')\n",
    "ds5_folder = os.path.join(root, 'GG5/')"
   ]
  },
  {
   "cell_type": "markdown",
   "id": "320527d2",
   "metadata": {},
   "source": [
    "J'ai deux modalités d'images à extraire\n",
    "\n",
    "* Modalité T2\n",
    "\n",
    "* Modalité ADC (Diffusion)"
   ]
  },
  {
   "cell_type": "markdown",
   "id": "128ca401",
   "metadata": {},
   "source": [
    "# GG1"
   ]
  },
  {
   "cell_type": "code",
   "execution_count": 147,
   "id": "168b80da",
   "metadata": {},
   "outputs": [],
   "source": [
    "extractFromeTissuesThroughSubFolders( ds1_folder, GG1_indexes)"
   ]
  },
  {
   "cell_type": "markdown",
   "id": "f25e25cf",
   "metadata": {},
   "source": [
    "# GG2"
   ]
  },
  {
   "cell_type": "code",
   "execution_count": 148,
   "id": "66248e92",
   "metadata": {},
   "outputs": [],
   "source": [
    "extractFromeTissuesThroughSubFolders( ds2_folder, GG2_indexes)"
   ]
  },
  {
   "cell_type": "markdown",
   "id": "06264aa3",
   "metadata": {},
   "source": [
    "# GG3"
   ]
  },
  {
   "cell_type": "code",
   "execution_count": 149,
   "id": "d26dfc2a",
   "metadata": {},
   "outputs": [],
   "source": [
    "extractFromeTissuesThroughSubFolders( ds3_folder, GG3_indexes)"
   ]
  },
  {
   "cell_type": "markdown",
   "id": "9e930d68",
   "metadata": {},
   "source": [
    "# GG4"
   ]
  },
  {
   "cell_type": "code",
   "execution_count": 150,
   "id": "0d35a34a",
   "metadata": {},
   "outputs": [],
   "source": [
    "extractFromeTissuesThroughSubFolders( ds4_folder, GG4_indexes)"
   ]
  },
  {
   "cell_type": "markdown",
   "id": "0d4e9868",
   "metadata": {},
   "source": [
    "# GG5"
   ]
  },
  {
   "cell_type": "code",
   "execution_count": 153,
   "id": "b9973792",
   "metadata": {},
   "outputs": [],
   "source": [
    "extractFromeTissuesThroughSubFolders( ds5_folder, GG5_indexes)"
   ]
  },
  {
   "cell_type": "code",
   "execution_count": null,
   "id": "b384e139",
   "metadata": {},
   "outputs": [],
   "source": []
  }
 ],
 "metadata": {
  "kernelspec": {
   "display_name": "Python 3 (ipykernel)",
   "language": "python",
   "name": "python3"
  },
  "language_info": {
   "codemirror_mode": {
    "name": "ipython",
    "version": 3
   },
   "file_extension": ".py",
   "mimetype": "text/x-python",
   "name": "python",
   "nbconvert_exporter": "python",
   "pygments_lexer": "ipython3",
   "version": "3.10.6"
  }
 },
 "nbformat": 4,
 "nbformat_minor": 5
}
